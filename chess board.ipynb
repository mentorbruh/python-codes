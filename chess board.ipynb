{
  "nbformat": 4,
  "nbformat_minor": 0,
  "metadata": {
    "kernelspec": {
      "display_name": "Python 3",
      "language": "python",
      "name": "python3"
    },
    "language_info": {
      "codemirror_mode": {
        "name": "ipython",
        "version": 3
      },
      "file_extension": ".py",
      "mimetype": "text/x-python",
      "name": "python",
      "nbconvert_exporter": "python",
      "pygments_lexer": "ipython3",
      "version": "3.8.3"
    },
    "colab": {
      "name": "chess board.ipynb",
      "provenance": []
    }
  },
  "cells": [
    {
      "cell_type": "code",
      "metadata": {
        "id": "y9oi-J7LFf3_",
        "outputId": "b036ec05-7133-4786-bb69-b2b6f7c315f3",
        "colab": {
          "base_uri": "https://localhost:8080/"
        }
      },
      "source": [
        "def ValidChessBoard(ChessBoard):\n",
        "    \n",
        "    \n",
        "    chessboardvalues=[]\n",
        "    a=['a','b','c','d','e','f','g','h']\n",
        "    for i in range(1,9):       \n",
        "        for j in a:\n",
        "            chessboardvalues.append(str(i)+j)\n",
        "    chessboardcoins=[]\n",
        "    a=['w','b']\n",
        "    b=['king','queen','bishop','knight','rook','pawn']\n",
        "    for i in a:\n",
        "        for j in b:\n",
        "            chessboardcoins.append(i+j)\n",
        "    \n",
        "    keys=list(ChessBoard.keys())\n",
        "    print(keys)\n",
        "    \n",
        "    keycount=len(keys)\n",
        "    valuablekey=0\n",
        "    \n",
        "    for i in range(keycount):\n",
        "        if keys[i] in chessboardvalues:\n",
        "            valuablekey+=1\n",
        "        else:\n",
        "            print('the chess board values doesn\\'t match the correct board values')\n",
        "            break\n",
        "    #checking if the board have same key values\n",
        "    correct_keyvalues=0\n",
        "    \n",
        "\n",
        "            \n",
        "            \n",
        "    if keycount==valuablekey:\n",
        "        values=list(ChessBoard.values())\n",
        "        valuecount=len(values)\n",
        "        correctvalues=0\n",
        "        for i in range(valuecount):\n",
        "            if values[i] in chessboardcoins:\n",
        "                correctvalues+=1\n",
        "            else:\n",
        "                print('the chess board coins doesn\\'t match the correct values')\n",
        "                break\n",
        "                \n",
        "        if valuecount==correctvalues:\n",
        "            coincount={}\n",
        "            for coinname in values:\n",
        "                coincount.setdefault(coinname, 0)\n",
        "                coincount[coinname]=coincount[coinname]+1\n",
        "                print (coincount)\n",
        "            if 'wking' in coincount.keys() and 'bking' in coincount.keys():\n",
        "                if coincount['wking']==1 and coincount['bking']==1:\n",
        "                    for i in coincount.keys():\n",
        "                        coinvalues={'wking':1,'bking':1,'wqueen':1,'bqueen':1,'wpawn':8,'bpawn':8,'wrook':2,'brook':2,'wbishop':2,'bbishop':2,'wknight':2,'bknight':2}\n",
        "                    for i in coincount.keys():\n",
        "                        if coincount[i]<=coinvalues[i]:\n",
        "                            print('The chess board contains %s %s coin'%(coincount[i],i))\n",
        "                        else:\n",
        "                            print('the chess board contains invalid %s coin'%(i))\n",
        "                            break\n",
        "                else:\n",
        "                    print('there are invalid number of kings, the chess board is invalid')\n",
        "            else:\n",
        "                print('the white or black king is missing,the chess board is invalid')\n",
        "                                \n",
        "                            \n",
        "                            \n",
        "            \n",
        "        \n",
        "            \n",
        "    \n",
        "    \n",
        "C={'1a':'wking','8a':'bking','8b':'wqueen','7b':'bpawn','1c':'bpawn'}\n",
        "ValidChessBoard(C)"
      ],
      "execution_count": 1,
      "outputs": [
        {
          "output_type": "stream",
          "text": [
            "['1a', '8a', '8b', '7b', '1c']\n",
            "{'wking': 1}\n",
            "{'wking': 1, 'bking': 1}\n",
            "{'wking': 1, 'bking': 1, 'wqueen': 1}\n",
            "{'wking': 1, 'bking': 1, 'wqueen': 1, 'bpawn': 1}\n",
            "{'wking': 1, 'bking': 1, 'wqueen': 1, 'bpawn': 2}\n",
            "The chess board contains 1 wking coin\n",
            "The chess board contains 1 bking coin\n",
            "The chess board contains 1 wqueen coin\n",
            "The chess board contains 2 bpawn coin\n"
          ],
          "name": "stdout"
        }
      ]
    },
    {
      "cell_type": "code",
      "metadata": {
        "id": "VEGMxkqIFf4H",
        "outputId": "3b7bb4a6-a97f-488e-bb0e-c0f1bbe0c5a9",
        "colab": {
          "base_uri": "https://localhost:8080/"
        }
      },
      "source": [
        "ValidChessBoard({'1a':'wking','1b':'wking'})"
      ],
      "execution_count": 3,
      "outputs": [
        {
          "output_type": "stream",
          "text": [
            "['1a', '1b']\n",
            "{'wking': 1}\n",
            "{'wking': 2}\n",
            "the white or black king is missing,the chess board is invalid\n"
          ],
          "name": "stdout"
        }
      ]
    }
  ]
}